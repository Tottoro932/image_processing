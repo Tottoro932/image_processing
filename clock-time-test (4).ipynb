{
 "cells": [
  {
   "cell_type": "code",
   "execution_count": 1,
   "metadata": {
    "execution": {
     "iopub.execute_input": "2022-11-11T16:41:55.130177Z",
     "iopub.status.busy": "2022-11-11T16:41:55.129494Z",
     "iopub.status.idle": "2022-11-11T16:42:11.200557Z",
     "shell.execute_reply": "2022-11-11T16:42:11.199278Z",
     "shell.execute_reply.started": "2022-11-11T16:41:55.130065Z"
    }
   },
   "outputs": [
    {
     "name": "stdout",
     "output_type": "stream",
     "text": [
      "\u001b[33mWARNING: Running pip as the 'root' user can result in broken permissions and conflicting behaviour with the system package manager. It is recommended to use a virtual environment instead: https://pip.pypa.io/warnings/venv\u001b[0m\u001b[33m\n",
      "\u001b[0m"
     ]
    }
   ],
   "source": [
    "! pip install timm -q"
   ]
  },
  {
   "cell_type": "code",
   "execution_count": 2,
   "metadata": {
    "execution": {
     "iopub.execute_input": "2022-11-11T16:42:11.209024Z",
     "iopub.status.busy": "2022-11-11T16:42:11.206227Z",
     "iopub.status.idle": "2022-11-11T16:42:11.278005Z",
     "shell.execute_reply": "2022-11-11T16:42:11.276849Z",
     "shell.execute_reply.started": "2022-11-11T16:42:11.208980Z"
    }
   },
   "outputs": [],
   "source": [
    "%reload_ext autoreload\n",
    "%autoreload 2\n",
    "%matplotlib inline"
   ]
  },
  {
   "cell_type": "code",
   "execution_count": 3,
   "metadata": {
    "execution": {
     "iopub.execute_input": "2022-11-11T16:42:11.285526Z",
     "iopub.status.busy": "2022-11-11T16:42:11.283083Z",
     "iopub.status.idle": "2022-11-11T16:42:11.327418Z",
     "shell.execute_reply": "2022-11-11T16:42:11.326071Z",
     "shell.execute_reply.started": "2022-11-11T16:42:11.285486Z"
    }
   },
   "outputs": [],
   "source": [
    "import warnings\n",
    "warnings.filterwarnings('ignore')"
   ]
  },
  {
   "cell_type": "code",
   "execution_count": 4,
   "metadata": {
    "execution": {
     "iopub.execute_input": "2022-11-11T16:42:11.335893Z",
     "iopub.status.busy": "2022-11-11T16:42:11.333465Z",
     "iopub.status.idle": "2022-11-11T16:42:18.796205Z",
     "shell.execute_reply": "2022-11-11T16:42:18.794903Z",
     "shell.execute_reply.started": "2022-11-11T16:42:11.335852Z"
    }
   },
   "outputs": [],
   "source": [
    "import os\n",
    "import torch\n",
    "from fastai import *\n",
    "from fastai.basics import *\n",
    "from fastai.callback.all import *\n",
    "from fastai.vision import *\n",
    "from fastai.vision.all import *\n",
    "from fastai.metrics import error_rate, accuracy\n",
    "import timm\n",
    "from timm.models import *\n",
    "import numpy as np\n",
    "import pandas as pd\n",
    "import matplotlib.pyplot as plt \n",
    "import random\n",
    "import PIL\n",
    "from timm.data import ImageDataset\n",
    "from sklearn.metrics import classification_report"
   ]
  },
  {
   "cell_type": "code",
   "execution_count": 5,
   "metadata": {
    "execution": {
     "iopub.execute_input": "2022-11-11T16:42:18.804595Z",
     "iopub.status.busy": "2022-11-11T16:42:18.801616Z",
     "iopub.status.idle": "2022-11-11T16:42:18.883583Z",
     "shell.execute_reply": "2022-11-11T16:42:18.882466Z",
     "shell.execute_reply.started": "2022-11-11T16:42:18.804550Z"
    }
   },
   "outputs": [
    {
     "data": {
      "text/plain": [
       "['convnext_base_in22k',\n",
       " 'convnext_large_in22k',\n",
       " 'convnext_small_in22k',\n",
       " 'convnext_tiny_in22k',\n",
       " 'convnext_xlarge_in22k']"
      ]
     },
     "execution_count": 5,
     "metadata": {},
     "output_type": "execute_result"
    }
   ],
   "source": [
    "timm.list_models('*convnext*in22k')"
   ]
  },
  {
   "cell_type": "code",
   "execution_count": 6,
   "metadata": {
    "execution": {
     "iopub.execute_input": "2022-11-11T16:42:18.891271Z",
     "iopub.status.busy": "2022-11-11T16:42:18.888821Z",
     "iopub.status.idle": "2022-11-11T16:42:38.491057Z",
     "shell.execute_reply": "2022-11-11T16:42:38.489927Z",
     "shell.execute_reply.started": "2022-11-11T16:42:18.891229Z"
    }
   },
   "outputs": [],
   "source": [
    "dls = ImageDataLoaders.from_folder('../input/clocks-data/my_data', train='train', valid='valid', \n",
    "                                   seed=42, bs = 32, item_tfms=Resize(128, method='squish'),\n",
    "                                   batch_tfms=aug_transforms(size=128, min_scale=0.75),\n",
    "                                   device=torch.device('cuda'))"
   ]
  },
  {
   "cell_type": "code",
   "execution_count": 7,
   "metadata": {
    "execution": {
     "iopub.execute_input": "2022-11-11T16:42:38.498852Z",
     "iopub.status.busy": "2022-11-11T16:42:38.496340Z",
     "iopub.status.idle": "2022-11-11T16:43:32.161397Z",
     "shell.execute_reply": "2022-11-11T16:43:32.160240Z",
     "shell.execute_reply.started": "2022-11-11T16:42:38.498808Z"
    }
   },
   "outputs": [],
   "source": [
    "#название базовой модели\n",
    "model_to_test_1 = vision_learner(dls, 'convnext_xlarge_in22k', model_dir='', metrics=error_rate, pretrained=False)\n",
    "model_to_test_1 = model_to_test_1.load('epochs_40_convnext_xlarge_in22k', strict=False)"
   ]
  },
  {
   "cell_type": "code",
   "execution_count": 8,
   "metadata": {
    "execution": {
     "iopub.execute_input": "2022-11-11T16:43:32.169389Z",
     "iopub.status.busy": "2022-11-11T16:43:32.166801Z",
     "iopub.status.idle": "2022-11-11T16:43:32.418797Z",
     "shell.execute_reply": "2022-11-11T16:43:32.417453Z",
     "shell.execute_reply.started": "2022-11-11T16:43:32.169347Z"
    }
   },
   "outputs": [],
   "source": [
    "import gc\n",
    "_ = gc.collect()"
   ]
  },
  {
   "cell_type": "code",
   "execution_count": 9,
   "metadata": {
    "execution": {
     "iopub.execute_input": "2022-11-11T16:43:32.427394Z",
     "iopub.status.busy": "2022-11-11T16:43:32.424581Z",
     "iopub.status.idle": "2022-11-11T16:59:05.741365Z",
     "shell.execute_reply": "2022-11-11T16:59:05.740185Z",
     "shell.execute_reply.started": "2022-11-11T16:43:32.427352Z"
    }
   },
   "outputs": [
    {
     "data": {
      "text/html": [
       "\n",
       "<style>\n",
       "    /* Turns off some styling */\n",
       "    progress {\n",
       "        /* gets rid of default border in Firefox and Opera. */\n",
       "        border: none;\n",
       "        /* Needs to be in here for Safari polyfill so background images work as expected. */\n",
       "        background-size: auto;\n",
       "    }\n",
       "    progress:not([value]), progress:not([value])::-webkit-progress-bar {\n",
       "        background: repeating-linear-gradient(45deg, #7e7e7e, #7e7e7e 10px, #5c5c5c 10px, #5c5c5c 20px);\n",
       "    }\n",
       "    .progress-bar-interrupted, .progress-bar-interrupted::-webkit-progress-bar {\n",
       "        background: #F44336;\n",
       "    }\n",
       "</style>\n"
      ],
      "text/plain": [
       "<IPython.core.display.HTML object>"
      ]
     },
     "metadata": {},
     "output_type": "display_data"
    },
    {
     "data": {
      "text/html": [
       "<table border=\"1\" class=\"dataframe\">\n",
       "  <thead>\n",
       "    <tr style=\"text-align: left;\">\n",
       "      <th>epoch</th>\n",
       "      <th>train_loss</th>\n",
       "      <th>valid_loss</th>\n",
       "      <th>error_rate</th>\n",
       "      <th>time</th>\n",
       "    </tr>\n",
       "  </thead>\n",
       "  <tbody>\n",
       "    <tr>\n",
       "      <td>0</td>\n",
       "      <td>0.064274</td>\n",
       "      <td>0.190297</td>\n",
       "      <td>0.030556</td>\n",
       "      <td>05:08</td>\n",
       "    </tr>\n",
       "  </tbody>\n",
       "</table>"
      ],
      "text/plain": [
       "<IPython.core.display.HTML object>"
      ]
     },
     "metadata": {},
     "output_type": "display_data"
    },
    {
     "data": {
      "text/html": [
       "\n",
       "<style>\n",
       "    /* Turns off some styling */\n",
       "    progress {\n",
       "        /* gets rid of default border in Firefox and Opera. */\n",
       "        border: none;\n",
       "        /* Needs to be in here for Safari polyfill so background images work as expected. */\n",
       "        background-size: auto;\n",
       "    }\n",
       "    progress:not([value]), progress:not([value])::-webkit-progress-bar {\n",
       "        background: repeating-linear-gradient(45deg, #7e7e7e, #7e7e7e 10px, #5c5c5c 10px, #5c5c5c 20px);\n",
       "    }\n",
       "    .progress-bar-interrupted, .progress-bar-interrupted::-webkit-progress-bar {\n",
       "        background: #F44336;\n",
       "    }\n",
       "</style>\n"
      ],
      "text/plain": [
       "<IPython.core.display.HTML object>"
      ]
     },
     "metadata": {},
     "output_type": "display_data"
    },
    {
     "data": {
      "text/html": [
       "<table border=\"1\" class=\"dataframe\">\n",
       "  <thead>\n",
       "    <tr style=\"text-align: left;\">\n",
       "      <th>epoch</th>\n",
       "      <th>train_loss</th>\n",
       "      <th>valid_loss</th>\n",
       "      <th>error_rate</th>\n",
       "      <th>time</th>\n",
       "    </tr>\n",
       "  </thead>\n",
       "  <tbody>\n",
       "    <tr>\n",
       "      <td>0</td>\n",
       "      <td>0.053733</td>\n",
       "      <td>0.126209</td>\n",
       "      <td>0.027083</td>\n",
       "      <td>10:24</td>\n",
       "    </tr>\n",
       "  </tbody>\n",
       "</table>"
      ],
      "text/plain": [
       "<IPython.core.display.HTML object>"
      ]
     },
     "metadata": {},
     "output_type": "display_data"
    }
   ],
   "source": [
    "model_to_test_1.fine_tune(1, 1e-2)\n",
    "#еще одна эпоха тренировки на данных (из fast ai best practices)"
   ]
  },
  {
   "cell_type": "code",
   "execution_count": 10,
   "metadata": {
    "execution": {
     "iopub.execute_input": "2022-11-11T16:59:05.750893Z",
     "iopub.status.busy": "2022-11-11T16:59:05.748122Z",
     "iopub.status.idle": "2022-11-11T16:59:05.829498Z",
     "shell.execute_reply": "2022-11-11T16:59:05.828163Z",
     "shell.execute_reply.started": "2022-11-11T16:59:05.750849Z"
    }
   },
   "outputs": [],
   "source": [
    "def do_test(dls, model_to_test, path):\n",
    "    my_tst_files = get_image_files(path).sorted()\n",
    "    my_tst_dl = dls.test_dl(my_tst_files)\n",
    "    probs,_,idxs = model_to_test.get_preds(dl = my_tst_dl, with_decoded = True)\n",
    "    mapping = dict(enumerate(dls.vocab))\n",
    "    reverse_mapping=dict(zip(dls.vocab,list(range(len(dls.vocab)))))\n",
    "    results = pd.Series(idxs.numpy(),name=\"idxs\").map(mapping)\n",
    "    testY = []\n",
    "    for item in my_tst_files:\n",
    "        testY += [reverse_mapping[item.parent.name]]\n",
    "    r1 = pd.Series(idxs.numpy(),name=\"idxs\").map(mapping)\n",
    "    r2 = pd.Series(np.array(testY),name=\"idxs\").map(mapping)\n",
    "    \n",
    "    return r1, r2, classification_report(testY, idxs, digits=4)"
   ]
  },
  {
   "cell_type": "code",
   "execution_count": 36,
   "metadata": {
    "execution": {
     "iopub.execute_input": "2022-11-11T17:51:01.653426Z",
     "iopub.status.busy": "2022-11-11T17:51:01.653035Z",
     "iopub.status.idle": "2022-11-11T17:51:03.192166Z",
     "shell.execute_reply": "2022-11-11T17:51:03.190862Z",
     "shell.execute_reply.started": "2022-11-11T17:51:01.653395Z"
    }
   },
   "outputs": [
    {
     "data": {
      "text/html": [
       "\n",
       "<style>\n",
       "    /* Turns off some styling */\n",
       "    progress {\n",
       "        /* gets rid of default border in Firefox and Opera. */\n",
       "        border: none;\n",
       "        /* Needs to be in here for Safari polyfill so background images work as expected. */\n",
       "        background-size: auto;\n",
       "    }\n",
       "    progress:not([value]), progress:not([value])::-webkit-progress-bar {\n",
       "        background: repeating-linear-gradient(45deg, #7e7e7e, #7e7e7e 10px, #5c5c5c 10px, #5c5c5c 20px);\n",
       "    }\n",
       "    .progress-bar-interrupted, .progress-bar-interrupted::-webkit-progress-bar {\n",
       "        background: #F44336;\n",
       "    }\n",
       "</style>\n"
      ],
      "text/plain": [
       "<IPython.core.display.HTML object>"
      ]
     },
     "metadata": {},
     "output_type": "display_data"
    },
    {
     "data": {
      "text/html": [],
      "text/plain": [
       "<IPython.core.display.HTML object>"
      ]
     },
     "metadata": {},
     "output_type": "display_data"
    }
   ],
   "source": [
    "r1, r2, cr = do_test(dls, model_to_test_1, '../input/my-clocks')"
   ]
  },
  {
   "cell_type": "code",
   "execution_count": 37,
   "metadata": {
    "execution": {
     "iopub.execute_input": "2022-11-11T17:51:03.195699Z",
     "iopub.status.busy": "2022-11-11T17:51:03.194573Z",
     "iopub.status.idle": "2022-11-11T17:51:03.249628Z",
     "shell.execute_reply": "2022-11-11T17:51:03.248699Z",
     "shell.execute_reply.started": "2022-11-11T17:51:03.195637Z"
    }
   },
   "outputs": [
    {
     "name": "stdout",
     "output_type": "stream",
     "text": [
      "              precision    recall  f1-score   support\n",
      "\n",
      "           1     1.0000    1.0000    1.0000         1\n",
      "           6     0.0000    0.0000    0.0000         0\n",
      "          33     1.0000    1.0000    1.0000         1\n",
      "          36     0.0000    0.0000    0.0000         0\n",
      "          46     0.0000    0.0000    0.0000         1\n",
      "          47     0.0000    0.0000    0.0000         0\n",
      "          48     1.0000    1.0000    1.0000         1\n",
      "          50     0.0000    0.0000    0.0000         0\n",
      "          53     0.0000    0.0000    0.0000         0\n",
      "          57     1.0000    0.5000    0.6667         2\n",
      "          60     0.0000    0.0000    0.0000         3\n",
      "          61     1.0000    1.0000    1.0000         1\n",
      "          62     1.0000    1.0000    1.0000         1\n",
      "          66     0.0000    0.0000    0.0000         0\n",
      "          68     1.0000    1.0000    1.0000         1\n",
      "          74     1.0000    1.0000    1.0000         1\n",
      "          83     0.3333    1.0000    0.5000         1\n",
      "          88     0.0000    0.0000    0.0000         1\n",
      "          89     1.0000    1.0000    1.0000         1\n",
      "          91     0.0000    0.0000    0.0000         0\n",
      "          94     0.0000    0.0000    0.0000         1\n",
      "          95     1.0000    0.5000    0.6667         2\n",
      "          96     0.0000    0.0000    0.0000         0\n",
      "          97     0.0000    0.0000    0.0000         1\n",
      "         107     0.0000    0.0000    0.0000         1\n",
      "         123     0.0000    0.0000    0.0000         0\n",
      "         127     0.0000    0.0000    0.0000         1\n",
      "         131     0.0000    0.0000    0.0000         1\n",
      "         133     0.0000    0.0000    0.0000         1\n",
      "         134     0.0000    0.0000    0.0000         1\n",
      "         135     0.0000    0.0000    0.0000         0\n",
      "         137     0.0000    0.0000    0.0000         1\n",
      "         139     1.0000    1.0000    1.0000         1\n",
      "\n",
      "    accuracy                         0.4444        27\n",
      "   macro avg     0.3434    0.3333    0.3283        27\n",
      "weighted avg     0.4938    0.4444    0.4506        27\n",
      "\n"
     ]
    }
   ],
   "source": [
    "print(cr)"
   ]
  },
  {
   "cell_type": "code",
   "execution_count": 38,
   "metadata": {
    "execution": {
     "iopub.execute_input": "2022-11-11T17:51:05.267663Z",
     "iopub.status.busy": "2022-11-11T17:51:05.267309Z",
     "iopub.status.idle": "2022-11-11T17:51:05.319079Z",
     "shell.execute_reply": "2022-11-11T17:51:05.317747Z",
     "shell.execute_reply.started": "2022-11-11T17:51:05.267633Z"
    }
   },
   "outputs": [
    {
     "name": "stdout",
     "output_type": "stream",
     "text": [
      "Что получено Что должно быть\n",
      "1-05\t\t1-05\n",
      "        верно\n",
      "11-45\t\t11-45\n",
      "        верно\n",
      "4-55\t\t12-50\n",
      "\n",
      "2-00\t\t2-00\n",
      "        верно\n",
      "6-00\t\t2-45\n",
      "\n",
      "2-45\t\t2-45\n",
      "        верно\n",
      "3-30\t\t3-00\n",
      "     почти верно\n",
      "12-00\t\t3-00\n",
      "     верны минуты\n",
      "1-30\t\t3-00\n",
      "\n",
      "3-05\t\t3-05\n",
      "        верно\n",
      "3-10\t\t3-10\n",
      "        верно\n",
      "3-40\t\t3-40\n",
      "        верно\n",
      "4-10\t\t4-10\n",
      "        верно\n",
      "4-55\t\t4-55\n",
      "        верно\n",
      "2-10\t\t5-20\n",
      "\n",
      "5-25\t\t5-25\n",
      "        верно\n",
      "4-55\t\t5-50\n",
      "     почти верно\n",
      "8-15\t\t5-55\n",
      "\n",
      "5-55\t\t5-55\n",
      "        верно\n",
      "3-30\t\t6-05\n",
      "\n",
      "12-55\t\t6-55\n",
      "     верны минуты\n",
      "5-35\t\t8-35\n",
      "     верны минуты\n",
      "6-05\t\t8-55\n",
      "\n",
      "6-05\t\t9-05\n",
      "     верны минуты\n",
      "9-15\t\t9-10\n",
      "     почти верно\n",
      "2-25\t\t9-25\n",
      "     верны минуты\n",
      "9-35\t\t9-35\n",
      "        верно\n"
     ]
    }
   ],
   "source": [
    "print('Что получено','Что должно быть')\n",
    "k = 0\n",
    "all = 0\n",
    "for t in zip(r1, r2):\n",
    "    print('{}\\t\\t{}'.format(t[0], t[1]))\n",
    "    if t[0] == t[1]:\n",
    "        k += 1\n",
    "        print('        верно')\n",
    "    elif abs(int(t[0].split('-')[0]) * 60 + int(t[0].split('-')[1]) - int(t[1].split('-')[0]) * 60 - int(t[1].split('-')[0])) <= 30:\n",
    "        print('     почти верно')\n",
    "        k += 1\n",
    "    else:\n",
    "        if t[0].split('-')[0] == t[1].split('-')[0]:\n",
    "            print('     верен час')\n",
    "            k += 0.5\n",
    "        if t[0].split('-')[1] == t[1].split('-')[1]:\n",
    "            print('     верны минуты')\n",
    "            k += 0.5\n",
    "        else:\n",
    "            print()\n",
    "    all += 1\n",
    "\n"
   ]
  },
  {
   "cell_type": "code",
   "execution_count": 39,
   "metadata": {
    "execution": {
     "iopub.execute_input": "2022-11-11T17:51:07.061582Z",
     "iopub.status.busy": "2022-11-11T17:51:07.061187Z",
     "iopub.status.idle": "2022-11-11T17:51:07.109622Z",
     "shell.execute_reply": "2022-11-11T17:51:07.108339Z",
     "shell.execute_reply.started": "2022-11-11T17:51:07.061552Z"
    }
   },
   "outputs": [
    {
     "name": "stdout",
     "output_type": "stream",
     "text": [
      "Общая оценка: 64.81\n"
     ]
    }
   ],
   "source": [
    "print('Общая оценка: {:.2f}' .format(k / all * 100))"
   ]
  },
  {
   "cell_type": "code",
   "execution_count": null,
   "metadata": {},
   "outputs": [],
   "source": []
  }
 ],
 "metadata": {
  "kernelspec": {
   "display_name": "Python 3",
   "language": "python",
   "name": "python3"
  },
  "language_info": {
   "codemirror_mode": {
    "name": "ipython",
    "version": 3
   },
   "file_extension": ".py",
   "mimetype": "text/x-python",
   "name": "python",
   "nbconvert_exporter": "python",
   "pygments_lexer": "ipython3",
   "version": "3.8.5"
  }
 },
 "nbformat": 4,
 "nbformat_minor": 4
}
